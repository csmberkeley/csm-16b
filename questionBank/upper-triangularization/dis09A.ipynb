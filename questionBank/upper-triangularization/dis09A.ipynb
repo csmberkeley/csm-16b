{
 "cells": [
  {
   "cell_type": "markdown",
   "metadata": {},
   "source": [
    " ## Discussion 10A, Spring 2022\n",
    " ### Towards Upper-Triangularization By An Orthonormal Basis"
   ]
  },
  {
   "cell_type": "markdown",
   "metadata": {},
   "source": [
    "Welcome! The discussion 10A worksheet presents arguments that are largely symbolic, but it can be helpful to ground the analysis in a numerical example. \n",
    "\n",
    "Run the code cells below for each part to follow along with the given example matrix. This square matrix is referred to as $M$ in the worksheet."
   ]
  },
  {
   "cell_type": "code",
   "execution_count": 1,
   "metadata": {},
   "outputs": [],
   "source": [
    "import numpy as np\n",
    "import scipy.linalg"
   ]
  },
  {
   "cell_type": "code",
   "execution_count": 2,
   "metadata": {},
   "outputs": [
    {
     "name": "stdout",
     "output_type": "stream",
     "text": [
      "M is: \n",
      "\n",
      " [[0.41666667 0.41666667 0.16666667]\n",
      " [0.41666667 0.41666667 0.16666667]\n",
      " [0.16666667 0.16666667 0.66666667]]\n"
     ]
    }
   ],
   "source": [
    "### defining the given S matrix\n",
    "M = np.array([\n",
    "        [5/12, 5/12, 1/6],\n",
    "        [5/12, 5/12, 1/6],\n",
    "        [1/6, 1/6, 2/3]\n",
    "])\n",
    "\n",
    "print(\"M is: \\n\\n\", M)"
   ]
  },
  {
   "cell_type": "markdown",
   "metadata": {},
   "source": [
    "## [Part (a)] Computing the Basis $U$"
   ]
  },
  {
   "cell_type": "code",
   "execution_count": 3,
   "metadata": {},
   "outputs": [
    {
     "name": "stdout",
     "output_type": "stream",
     "text": [
      "U is: \n",
      "\n",
      " [[ 0.70710678  0.70710678  0.        ]\n",
      " [-0.70710678  0.70710678  0.        ]\n",
      " [ 0.          0.          1.        ]]\n"
     ]
    }
   ],
   "source": [
    "### defining a function to perform gram-schmidt on a given vector:\n",
    "def extend_to_basis(v1: np.ndarray) -> np.ndarray:\n",
    "    \"\"\"\n",
    "    This function uses Gram Schmidt algorithm to extend a n-by-1 column vector v1 to an\n",
    "    orthonormal basis for R^n\n",
    "    :param v1: n-by-1 column vector\n",
    "    :return: n-by-n matrix, orthonormal basis\n",
    "    \"\"\"\n",
    "    ncol = v1.shape[0]\n",
    "    v1 = np.reshape(v1, (ncol, 1))\n",
    "    # make matrix vmat with v1 and standard basis vectors\n",
    "    vmat = np.hstack((v1, np.eye(ncol)))\n",
    "    # initialize final orthonormal basis matrix\n",
    "    qmat = np.hstack((v1 / np.linalg.norm(v1), np.zeros((ncol, ncol - 1))))\n",
    "    idx = 1\n",
    "    while idx < ncol:\n",
    "        # Perform Gram Schmidt algorithm\n",
    "        vvec = vmat[:, idx]\n",
    "        zvec = vvec.copy()\n",
    "        for jdx in range(idx):\n",
    "            zvec -= (vvec.T @ qmat[:, jdx]) * qmat[:, jdx]\n",
    "        if np.isclose(zvec, qmat[:, idx]).all():\n",
    "            # this vector is not linearly independent, so delete it\n",
    "            vmat = np.delete(vmat, idx, 1)\n",
    "        else:\n",
    "            qmat[:, idx] = zvec / np.linalg.norm(zvec)\n",
    "            idx += 1\n",
    "    return qmat\n",
    "\n",
    "### calling the given function on our starting vector u, and assigning the result to the matrix U\n",
    "vec_u = np.array([1, -1, 0])\n",
    "U = extend_to_basis(vec_u)\n",
    "\n",
    "print(\"U is: \\n\\n\", U)"
   ]
  },
  {
   "cell_type": "markdown",
   "metadata": {},
   "source": [
    "## [Part (b)] Computing $U^\\top M U$"
   ]
  },
  {
   "cell_type": "code",
   "execution_count": 5,
   "metadata": {},
   "outputs": [
    {
     "name": "stdout",
     "output_type": "stream",
     "text": [
      "U^T M U is: \n",
      "\n",
      " [[0.     0.     0.    ]\n",
      " [0.     0.8333 0.2357]\n",
      " [0.     0.2357 0.6667]]\n",
      "\n",
      "the R matrix is \n",
      "\n",
      " [[0.70710678 0.        ]\n",
      " [0.70710678 0.        ]\n",
      " [0.         1.        ]]\n"
     ]
    }
   ],
   "source": [
    "### multiplying the matrices in the required order, and rounding to avoid floating point error.\n",
    "print(\"U^T M U is: \\n\\n\", np.around(U.T @ M @ U, 4))\n",
    "\n",
    "### defining R for later subparts\n",
    "R = U[:,1:]\n",
    "print(\"\\nthe R matrix is \\n\\n\", R)"
   ]
  },
  {
   "cell_type": "markdown",
   "metadata": {},
   "source": [
    "Note that the values here are the decimal equivalent of the fractions in the worksheet solutions. The fractional form is:\n",
    "$$\n",
    "U^\\top M U =\n",
    "            \\begin{bmatrix}\n",
    "            \t0 & 0 & 0\\\\\n",
    "             \t0 & \\frac{5}{6} & \\frac{\\sqrt{2}}{6}\\\\\n",
    "             \t0 & \\frac{\\sqrt{2}}{6} & \\frac{2}{3}\n",
    "         \t\\end{bmatrix}\n",
    "$$"
   ]
  },
  {
   "cell_type": "markdown",
   "metadata": {},
   "source": [
    "## [Part (c)] Checking that $U^\\top = U^{-1}$"
   ]
  },
  {
   "cell_type": "code",
   "execution_count": 6,
   "metadata": {},
   "outputs": [
    {
     "name": "stdout",
     "output_type": "stream",
     "text": [
      "transpose of U: \n",
      "\n",
      " [[ 0.70710678 -0.70710678  0.        ]\n",
      " [ 0.70710678  0.70710678  0.        ]\n",
      " [ 0.          0.          1.        ]]\n"
     ]
    }
   ],
   "source": [
    "### print transpose of U\n",
    "print(\"transpose of U: \\n\\n\", U.T)"
   ]
  },
  {
   "cell_type": "code",
   "execution_count": 7,
   "metadata": {},
   "outputs": [
    {
     "name": "stdout",
     "output_type": "stream",
     "text": [
      "inverse of U: \n",
      "\n",
      " [[ 0.70710678 -0.70710678  0.        ]\n",
      " [ 0.70710678  0.70710678  0.        ]\n",
      " [ 0.          0.          1.        ]]\n"
     ]
    }
   ],
   "source": [
    "### print inverse of U\n",
    "print(\"inverse of U: \\n\\n\", np.linalg.inv(U))"
   ]
  },
  {
   "cell_type": "markdown",
   "metadata": {},
   "source": [
    "Notice the results above are the same!"
   ]
  },
  {
   "cell_type": "markdown",
   "metadata": {},
   "source": [
    "## [Part (d)] Checking that \n",
    "$$ S = U^\\top \\underbrace{\\begin{bmatrix}\n",
    "            \\lambda_1 & \\vec{a}^\\top \\\\\n",
    "            \\vec{0} & Q\n",
    "        \\end{bmatrix}}_{T} U $$"
   ]
  },
  {
   "cell_type": "code",
   "execution_count": 8,
   "metadata": {},
   "outputs": [
    {
     "name": "stdout",
     "output_type": "stream",
     "text": [
      "LHS matrix: M is \n",
      "\n",
      " [[0.4167 0.4167 0.1667]\n",
      " [0.4167 0.4167 0.1667]\n",
      " [0.1667 0.1667 0.6667]]\n"
     ]
    }
   ],
   "source": [
    "### print the left-hand side, which is just S\n",
    "print(\"LHS matrix: M is \\n\\n\", np.around(M, 4))"
   ]
  },
  {
   "cell_type": "code",
   "execution_count": 9,
   "metadata": {},
   "outputs": [
    {
     "name": "stdout",
     "output_type": "stream",
     "text": [
      "Q matrix is: \n",
      "\n",
      " [[0.83333333 0.23570226]\n",
      " [0.23570226 0.66666667]] \n",
      "\n",
      "the T matrix is: \n",
      "\n",
      " [[0.     0.     0.    ]\n",
      " [0.     0.8333 0.2357]\n",
      " [0.     0.2357 0.6667]] \n",
      "\n",
      "RHS matrix: \n",
      "\n",
      " [[0.4167 0.4167 0.1667]\n",
      " [0.4167 0.4167 0.1667]\n",
      " [0.1667 0.1667 0.6667]]\n"
     ]
    }
   ],
   "source": [
    "### print the right-hand side, which is U^T T U, with T defined as above\n",
    "v1 = np.array([1, -1, 0])/np.sqrt(2)\n",
    "lambda1 = 0\n",
    "a = R.T @ M.T @ v1 ### a happens to be zero here, since M was symmetric. Try defining a different M and see what happens!\n",
    "Q = R.T @ M @ R\n",
    "print(\"Q matrix is: \\n\\n\", Q, \"\\n\")\n",
    "\n",
    "T = np.vstack([\n",
    "    np.hstack([lambda1, a.T]),\n",
    "    np.hstack([np.zeros((2, 1)), Q])\n",
    "])\n",
    "\n",
    "print(\"the T matrix is: \\n\\n\", np.around(T, 4), \"\\n\")\n",
    "\n",
    "print(\"RHS matrix: \\n\\n\", np.around(U @ T @ U.T, 4))"
   ]
  },
  {
   "cell_type": "markdown",
   "metadata": {},
   "source": [
    "Note that the RHS and LHS match!"
   ]
  },
  {
   "cell_type": "markdown",
   "metadata": {},
   "source": [
    "## [Part (e)] Showing that \n",
    "$$M = \\begin{bmatrix} \\vec{v}_1 & R\\vec{v}_2 & RY \\end{bmatrix}\n",
    "        \\begin{bmatrix} \\lambda_1 & a_1 & \\vec{a}_\\text{rest}^\\top \\\\\n",
    "            0 & \\lambda_2 & \\vec{b}^\\top    \\\\\n",
    "            \\vec{0} & 0 & P\n",
    "        \\end{bmatrix}\n",
    "        \\begin{bmatrix} \\vec{v}_1 & R\\vec{v}_2 & RY \\end{bmatrix}^\\top$$"
   ]
  },
  {
   "cell_type": "code",
   "execution_count": 10,
   "metadata": {},
   "outputs": [
    {
     "data": {
      "text/plain": [
       "(array([1. , 0.5]),\n",
       " array([[ 0.81649658, -0.57735027],\n",
       "        [ 0.57735027,  0.81649658]]))"
      ]
     },
     "execution_count": 10,
     "metadata": {},
     "output_type": "execute_result"
    }
   ],
   "source": [
    "### First, we can list the eigenvalues and eigenvectors of Q to choose\n",
    "np.linalg.eig(Q)"
   ]
  },
  {
   "cell_type": "markdown",
   "metadata": {},
   "source": [
    "We take the pair $$(\\lambda_2, \\vec{v}_2) = \\left(1, \\begin{bmatrix} -0.57735027 \\\\ 0.81649658 \\end{bmatrix}\\right) = \\left(1, \\begin{bmatrix} \\frac{-\\sqrt{3}}{3} \\\\ \\frac{\\sqrt{6}}{3} \\end{bmatrix}\\right)$$"
   ]
  },
  {
   "cell_type": "markdown",
   "metadata": {},
   "source": [
    "Then, we can make sure that Q actually matches the given form, by defining $Y$ and then carrying out the computation"
   ]
  },
  {
   "cell_type": "code",
   "execution_count": 11,
   "metadata": {},
   "outputs": [
    {
     "name": "stdout",
     "output_type": "stream",
     "text": [
      "Y, which is the orthonormal extension of v2, is: \n",
      "\n",
      " [[0.81649658]\n",
      " [0.57735027]]\n"
     ]
    }
   ],
   "source": [
    "lambda2 = 0.5\n",
    "v2 = np.array([[-np.sqrt(3)/3],  [np.sqrt(6)/3]])\n",
    "Y = np.array([[np.sqrt(6)/3], [np.sqrt(3)/3]])\n",
    "print(\"Y, which is the orthonormal extension of v2, is: \\n\\n\", Y)"
   ]
  },
  {
   "cell_type": "code",
   "execution_count": 12,
   "metadata": {},
   "outputs": [
    {
     "name": "stdout",
     "output_type": "stream",
     "text": [
      "Q is: \n",
      "\n",
      " [[0.83333333 0.23570226]\n",
      " [0.23570226 0.66666667]] \n",
      "\n"
     ]
    }
   ],
   "source": [
    "print(\"Q is: \\n\\n\", Q, \"\\n\")"
   ]
  },
  {
   "cell_type": "code",
   "execution_count": 13,
   "metadata": {},
   "outputs": [
    {
     "name": "stdout",
     "output_type": "stream",
     "text": [
      "the [v2, Y] matrix is: \n",
      "\n",
      " [[-0.57735027  0.81649658]\n",
      " [ 0.81649658  0.57735027]] \n",
      "\n",
      "The P matrix is: \n",
      "\n",
      " [1.] \n",
      "\n",
      "The middle matrix, T2, is: \n",
      "\n",
      " [[0.5 0. ]\n",
      " [0.  1. ]] \n",
      "\n",
      "the RHS of the Q expression is: \n",
      "\n",
      " [[0.83333333 0.23570226]\n",
      " [0.23570226 0.66666667]] \n",
      "\n"
     ]
    }
   ],
   "source": [
    "### first we define the v2, Y concatenated matrix\n",
    "v2Y = np.hstack([v2, Y])\n",
    "print(\"the [v2, Y] matrix is: \\n\\n\", v2Y, \"\\n\")\n",
    "\n",
    "### Now, we define the P matrix and b vector, analogous to what we did before\n",
    "P = (Y.T @ Q @ Y).reshape(1,)\n",
    "b = (Y.T @ Q.T @ v2).reshape(1,)\n",
    "\n",
    "### Now we define the middle matrix of Q, called T2\n",
    "T2 = np.vstack([\n",
    "    np.hstack([lambda2, b.T]),\n",
    "    np.hstack([0, P])\n",
    "])\n",
    "\n",
    "print(\"The P matrix is: \\n\\n\", np.around(P, 4), \"\\n\")\n",
    "\n",
    "print(\"The middle matrix, T2, is: \\n\\n\", np.around(T2, 4), \"\\n\")\n",
    "\n",
    "print(\"the RHS of the Q expression is: \\n\\n\", v2Y @ T2 @ v2Y.T, \"\\n\")"
   ]
  },
  {
   "cell_type": "markdown",
   "metadata": {},
   "source": [
    "The left and right sides of the given equation match! Now let's show that our expression for $M$ holds as well:"
   ]
  },
  {
   "cell_type": "code",
   "execution_count": 15,
   "metadata": {},
   "outputs": [
    {
     "name": "stdout",
     "output_type": "stream",
     "text": [
      "the M matrix is: \n",
      "\n",
      " [[0.41666667 0.41666667 0.16666667]\n",
      " [0.41666667 0.41666667 0.16666667]\n",
      " [0.16666667 0.16666667 0.66666667]] \n",
      "\n"
     ]
    }
   ],
   "source": [
    "print(\"the M matrix is: \\n\\n\", M, \"\\n\")"
   ]
  },
  {
   "cell_type": "code",
   "execution_count": 16,
   "metadata": {},
   "outputs": [
    {
     "name": "stdout",
     "output_type": "stream",
     "text": [
      "the RHS matrix is: \n",
      "\n",
      " [[0.41666667 0.41666667 0.16666667]\n",
      " [0.41666667 0.41666667 0.16666667]\n",
      " [0.16666667 0.16666667 0.66666667]] \n",
      "\n"
     ]
    }
   ],
   "source": [
    "### we define the block [v1, Rv2, RY]\n",
    "M_blk = np.hstack([v1.reshape(3,1), R @ v2, R @ Y])\n",
    "\n",
    "### We form the middle matrix for S\n",
    "M_mid = np.vstack([\n",
    "    np.hstack([lambda1, a[0], a[1:].T]),\n",
    "    np.hstack([0, lambda2, b.T]),\n",
    "    np.hstack([np.zeros((1,)), 0, P[0]])\n",
    "])\n",
    "\n",
    "### We print out the calculated  matrix\n",
    "print(\"the RHS matrix is: \\n\\n\", M_blk @ M_mid @ M_blk.T, \"\\n\")"
   ]
  },
  {
   "cell_type": "markdown",
   "metadata": {},
   "source": [
    "## In this section we extend the above algorithm for $n\\times n$ matrices"
   ]
  },
  {
   "cell_type": "code",
   "execution_count": 18,
   "metadata": {},
   "outputs": [
    {
     "name": "stdout",
     "output_type": "stream",
     "text": [
      "[[ 1.   0.  -0. ]\n",
      " [ 0.   0.5 -0. ]\n",
      " [-0.  -0.   0. ]]\n"
     ]
    }
   ],
   "source": [
    "def GramSchmidtRest(v):\n",
    "    n = v.shape[0]\n",
    "    v = v / np.linalg.norm(v)\n",
    "    I = np.identity(n)\n",
    "    mat = np.hstack((v, I))\n",
    "    basis = scipy.linalg.orth(mat)\n",
    "    return basis[:, 1:]\n",
    "\n",
    "## Recursive formulation from lecture\n",
    "def UpperTriangularize(M):\n",
    "    if M.shape[0] == 1:\n",
    "        return np.array([[1]])\n",
    "    else:\n",
    "        eigval, eigvec = scipy.linalg.eig(M)\n",
    "        v = eigvec[:, :1]\n",
    "        R = GramSchmidtRest(v)\n",
    "        B = R.T @ M @ R\n",
    "        U_1 = UpperTriangularize(B)\n",
    "        U = np.hstack((v, R@U_1))\n",
    "        return U\n",
    "\n",
    "U = UpperTriangularize(M)   \n",
    "\n",
    "# triangularize matrix M\n",
    "T = U.T @ M @ U\n",
    "\n",
    "# print friendly round off\n",
    "print(np.around(T, 3))"
   ]
  },
  {
   "cell_type": "code",
   "execution_count": 19,
   "metadata": {},
   "outputs": [],
   "source": [
    "def uppertriangularizeloop(M):\n",
    "    currentMatrix = M\n",
    "    U = np.array([])\n",
    "    R = np.identity(M.shape[0])\n",
    "    while currentMatrix.shape[0] > 0:\n",
    "        eigval, eigvec = scipy.linalg.eig(currentMatrix)\n",
    "        eigvec = eigvec[:, :1]\n",
    "        if U.shape[0] == 0:\n",
    "            U = np.dot(R, eigvec)\n",
    "        else:\n",
    "            U = np.hstack((U, np.dot(R, eigvec)))\n",
    "        if currentMatrix.shape[0] == 1:\n",
    "            currentMatrix = np.array([])\n",
    "        else:\n",
    "            Y = GramSchmidtRest(eigvec)\n",
    "            currentMatrix = np.dot(Y.T, np.dot(currentMatrix, Y))\n",
    "            R = np.dot(R, Y)\n",
    "    return U\n",
    "        "
   ]
  },
  {
   "cell_type": "code",
   "execution_count": 20,
   "metadata": {},
   "outputs": [
    {
     "name": "stdout",
     "output_type": "stream",
     "text": [
      "[[ 1.   0.  -0. ]\n",
      " [ 0.   0.5 -0. ]\n",
      " [-0.  -0.   0. ]]\n"
     ]
    }
   ],
   "source": [
    "U = uppertriangularizeloop(M)\n",
    "\n",
    "# triangularize M\n",
    "T = U.T @ M @ U\n",
    "\n",
    "print(np.around(T, 3))\n"
   ]
  },
  {
   "cell_type": "markdown",
   "metadata": {},
   "source": [
    "Wonderful! We have now expressed the original $M$ matrix in an upper-triangular form using orthonormalization"
   ]
  }
 ],
 "metadata": {
  "kernelspec": {
   "display_name": "Python 3.10.8 64-bit",
   "language": "python",
   "name": "python3"
  },
  "language_info": {
   "codemirror_mode": {
    "name": "ipython",
    "version": 3
   },
   "file_extension": ".py",
   "mimetype": "text/x-python",
   "name": "python",
   "nbconvert_exporter": "python",
   "pygments_lexer": "ipython3",
   "version": "3.10.8 (main, Oct 13 2022, 09:48:40) [Clang 14.0.0 (clang-1400.0.29.102)]"
  },
  "vscode": {
   "interpreter": {
    "hash": "b0fa6594d8f4cbf19f97940f81e996739fb7646882a419484c72d19e05852a7e"
   }
  }
 },
 "nbformat": 4,
 "nbformat_minor": 4
}
